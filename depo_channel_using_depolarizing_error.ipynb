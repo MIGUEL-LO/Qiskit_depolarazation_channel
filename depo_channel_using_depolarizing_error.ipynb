{
 "cells": [
  {
   "cell_type": "code",
   "execution_count": 1,
   "metadata": {
    "slideshow": {
     "slide_type": "slide"
    }
   },
   "outputs": [],
   "source": [
    "from qiskit import QuantumCircuit, ClassicalRegister, QuantumRegister, Aer\n",
    "from qiskit import execute\n",
    "from qiskit.tools.visualization import plot_histogram\n",
    "import numpy as np\n",
    "import matplotlib.pyplot as plt\n",
    "from qiskit.ignis.mitigation.measurement import (complete_meas_cal,CompleteMeasFitter)\n",
    "from qiskit.providers.aer.noise import NoiseModel\n",
    "from qiskit.providers.aer.noise.errors import pauli_error, depolarizing_error\n",
    "from IPython.display import Image"
   ]
  },
  {
   "cell_type": "markdown",
   "metadata": {
    "slideshow": {
     "slide_type": "skip"
    }
   },
   "source": [

   ]
  },
  {
   "cell_type": "markdown",
   "metadata": {
    "slideshow": {
     "slide_type": "slide"
    }
   },
   "source": [
    "# Making a single qubit depolarizing error channel.\n",
    "The aim is to use Qiskits built in depolarizing quantum error channel function\n",
    "$\\texttt{depolarizing\\_error(param, num\\_qubits, standard\\_gates=True)}$ to create the desired depolarizing channel. It takes the depolarization parameter $\\lambda$ and number of qubits $n$ to create the depolarizing channel\n",
    "$$\n",
    "\\begin{equation}\n",
    "    \\label{eqn:depo-chan-qiskit}\n",
    "    \\varepsilon(\\rho) = (1-\\lambda)\\rho + \\lambda Tr\\left[\\rho\\right]\\frac{I}{2^{n}}\n",
    "    \\text{.}\n",
    "\\end{equation}$$\n",
    "\n",
    "It can then be manipulated to create the single qubit depolarizing channel\n",
    "$$\n",
    "\\begin{equation}\n",
    "    \\label{eqn:depo-chan-1qubit}\n",
    "    \\varepsilon(\\rho_{single-qubit}) =    \n",
    "    (1-P)\\rho + \\frac{P}{3}\\left(X\\rho X + Y\\rho Y + Z\\rho Z\\right)\n",
    "    \\text{.}\n",
    "\\end{equation}$$\n",
    "This is shown by the following derivation."
   ]
  },
  {
   "cell_type": "markdown",
   "metadata": {
    "slideshow": {
     "slide_type": "subslide"
    }
   },
   "source": [
    "For a single qubit $n=1$\n",
    "$$ \\frac{I}{2^{1}} = \\frac{1}{4} \\left(I\\rho I + X\\rho X + Y\\rho Y + Z\\rho Z\\right),$$\n",
    "and $Tr[\\rho] = 1.$\n",
    "\n",
    "If we then chose \n",
    "$$\\lambda=\\frac{4^{n}P}{4^{n}-1},$$ \n",
    "where $P$ is the probability. At $n=1$ the depolarization paramater\n",
    "$$\\lambda = \\frac{4P}{3}$$ and by substituting these results into $\\varepsilon(\\rho)$ we get that \n",
    "\n",
    "$$\n",
    "\\begin{align}\n",
    "    \\varepsilon(\\rho) &= (1-\\frac{4P}{3})\\rho +  \n",
    "        \\frac{4P}{3} \\left(I\\rho I + X\\rho X + Y\\rho Y + Z\\rho Z\\right)\n",
    "    \\frac{1}{4} \\\\\n",
    "                      &=  \\left( 1 - \\frac{4P}{3} + \\frac{P}{3} \\right)\\rho\n",
    "                        + \\frac{P}{3} \\left(X\\rho X + Y\\rho Y + Z\\rho Z\\right) \\\\\n",
    "                       &= (1-P)\\rho + \\frac{P}{3}\\left(X\\rho X + Y\\rho Y + Z\\rho Z\\right)\n",
    "    \\text{.}\n",
    "\\end{align}\n",
    "$$"
   ]
  },
  {
   "cell_type": "markdown",
   "metadata": {
    "slideshow": {
     "slide_type": "subslide"
    }
   },
   "source": [
    "To prove that this works I wil be using a 2, 3 and 4 qubit system to show the affect of the depolarazation channel when $\\lambda=\\frac{4P}{3}$. The depolazation channel will act on every qubit indivually when a measuremnet is done. This means that every qubit wil experience a single qubit depolarazation channel of the form\n",
    "$$\\varepsilon(\\rho_{single-qubit}) =    \n",
    "    (1-P)\\rho + \\frac{P}{3}\\left(X\\rho X + Y\\rho Y + Z\\rho Z\\right)$$"
   ]
  },
  {
   "cell_type": "code",
   "execution_count": 2,
   "metadata": {
    "slideshow": {
     "slide_type": "subslide"
    }
   },
   "outputs": [],
   "source": [
    "def get_noise(p, qubits=1):\n",
    "    \n",
    "    # This creates the depolarizing error channel,\n",
    "    # epsilon(P) = (1-P)rho + (P/3)(XrhoX + YrhoY + ZrhoZ).\n",
    "    depo_err_chan = depolarizing_error((4*p)/3, qubits)\n",
    "\n",
    "    # Creating the noise model to be used during execution.\n",
    "    noise_model = NoiseModel()\n",
    "\n",
    "    noise_model.add_all_qubit_quantum_error(depo_err_chan, \"measure\") # measurement error is applied to measurements\n",
    "\n",
    "    return noise_model, depo_err_chan"
   ]
  },
  {
   "cell_type": "code",
   "execution_count": 3,
   "metadata": {
    "slideshow": {
     "slide_type": "subslide"
    }
   },
   "outputs": [],
   "source": [
    "# The probability for depolarazation = 1, \n",
    "# Number of qubits = 1.\n",
    "noise_model, depo_err_chan = get_noise(1,1)"
   ]
  },
  {
   "cell_type": "code",
   "execution_count": 4,
   "metadata": {
    "slideshow": {
     "slide_type": "subslide"
    }
   },
   "outputs": [
    {
     "name": "stdout",
     "output_type": "stream",
     "text": [
      "QuantumError on 1 qubits. Noise circuits:\n",
      "  P(0) = 0.3333333333333333, QasmQobjInstructions = [[{'name': 'x', 'qubits': [0]}]\n",
      "  P(1) = 0.3333333333333333, QasmQobjInstructions = [[{'name': 'y', 'qubits': [0]}]\n",
      "  P(2) = 0.3333333333333333, QasmQobjInstructions = [[{'name': 'z', 'qubits': [0]}]\n"
     ]
    }
   ],
   "source": [
    "# Properties of the depolarasation channel when P=1.\n",
    "print(depo_err_chan)"
   ]
  },
  {
   "cell_type": "markdown",
   "metadata": {
    "slideshow": {
     "slide_type": "subslide"
    }
   },
   "source": [
    "When $P=1$ the total probability for a qubit to be flipped is 2/3. \n",
    "This is because of the $X$ and $Y$ operators both having a probability occuring of 1/3.\n",
    "The total probability for a qubit to remain the same is 1/3.\n",
    "This is because of $Z$ operator acting on the qubit.\n",
    "As you can see this obeys the depolaration equation we want $\\varepsilon(\\rho_{single-qubit})$.\n",
    "When $P=1$, $\\varepsilon(\\rho_{single-qubit})$ becomes\n",
    "\n",
    "$$\n",
    "\\begin{align}\n",
    "    \\varepsilon(\\rho_{single-qubit}) &=    \n",
    "    (1-1)\\rho + \\frac{1}{3}\\left(X\\rho X + Y\\rho Y + Z\\rho Z\\right) \\\\\n",
    "                                    &=\n",
    "    \\frac{1}{3}\\left(X\\rho X + Y\\rho Y + Z\\rho Z\\right)\n",
    "\\end{align}\n",
    "$$\n",
    "This shows that the $X$, $Y$ and $Z$ operators occur with a probability 1/3, just like it's shown in the properties of the depolarasation channel above."
   ]
  },
  {
   "cell_type": "code",
   "execution_count": 5,
   "metadata": {
    "slideshow": {
     "slide_type": "subslide"
    }
   },
   "outputs": [
    {
     "name": "stdout",
     "output_type": "stream",
     "text": [
      "NoiseModel:\n",
      "  Basis gates: ['cx', 'id', 'u3']\n",
      "  Instructions with noise: ['measure']\n",
      "  All-qubits errors: ['measure']\n"
     ]
    }
   ],
   "source": [
    "# The structure of the noise model used during execution.\n",
    "print(noise_model)"
   ]
  },
  {
   "cell_type": "markdown",
   "metadata": {
    "slideshow": {
     "slide_type": "slide"
    }
   },
   "source": [
    "We expect from the depolarazation channel acting on a 1 qubit system with initial qubit states $q_{0} = |0>$ to flip the qubit state $q_{0}$ with a total probability $2/3$ and remain the same with a probability of $1/3$. This will then give us the 2 possible states $|0>$ and $|1>$."
   ]
  },
  {
   "cell_type": "code",
   "execution_count": 6,
   "metadata": {
    "slideshow": {
     "slide_type": "subslide"
    }
   },
   "outputs": [],
   "source": [
    "qr = QuantumRegister(1)\n",
    "cr = ClassicalRegister(1)\n",
    "qc = QuantumCircuit(qr, cr)"
   ]
  },
  {
   "cell_type": "code",
   "execution_count": 7,
   "metadata": {
    "slideshow": {
     "slide_type": "subslide"
    }
   },
   "outputs": [
    {
     "data": {
      "text/plain": [
       "<qiskit.circuit.instructionset.InstructionSet at 0x1df60b7ff48>"
      ]
     },
     "execution_count": 7,
     "metadata": {},
     "output_type": "execute_result"
    }
   ],
   "source": [
    "qc.measure(0,0)"
   ]
  },
  {
   "cell_type": "code",
   "execution_count": 8,
   "metadata": {
    "slideshow": {
     "slide_type": "subslide"
    }
   },
   "outputs": [
    {
     "name": "stdout",
     "output_type": "stream",
     "text": [
      "      ┌─┐\n",
      "q0_0: ┤M├\n",
      "      └╥┘\n",
      "c0_0: ═╩═\n",
      "         \n"
     ]
    }
   ],
   "source": [
    "print(qc)"
   ]
  },
  {
   "cell_type": "code",
   "execution_count": 9,
   "metadata": {
    "slideshow": {
     "slide_type": "subslide"
    }
   },
   "outputs": [],
   "source": [
    "counts = execute(qc, Aer.get_backend('qasm_simulator'), \n",
    "                  noise_model=noise_model,\n",
    "                  shots=1000000).result().get_counts()"
   ]
  },
  {
   "cell_type": "code",
   "execution_count": 10,
   "metadata": {
    "slideshow": {
     "slide_type": "subslide"
    }
   },
   "outputs": [
    {
     "data": {
      "image/png": "[encoded data removed]",
      "text/plain": [
       "<Figure size 504x360 with 1 Axes>"
      ]
     },
     "execution_count": 10,
     "metadata": {},
     "output_type": "execute_result"
    }
   ],
   "source": [
    "plot_histogram(counts)"
   ]
  },
  {
   "cell_type": "code",
   "execution_count": 11,
   "metadata": {
    "slideshow": {
     "slide_type": "subslide"
    }
   },
   "outputs": [
    {
     "name": "stdout",
     "output_type": "stream",
     "text": [
      "{'1': 666688, '0': 333312}\n"
     ]
    }
   ],
   "source": [
    "print(counts)"
   ]
  },
  {
   "cell_type": "markdown",
   "metadata": {
    "slideshow": {
     "slide_type": "subslide"
    }
   },
   "source": [
    "\n",
    "|1-qubit state | Probability of the 1-qubit state  | Qiskit result |\n",
    "|--------------|-----------------------------------|---------------|\n",
    "|    $\\vert 0>$ | $\\frac{1}{3} = 0.333$ | 0.333|\n",
    "|    $\\vert 1>$ | $\\frac{2}{3} = 0.666$ | 0.667|\n",
    "\n",
    "From the results above you can see that the deporalizing error channel $\\varepsilon(\\rho_{single-qubit})$ works on the qubits like how it was expected with the small error due to statistical fluctuations involved in making measurements.\n"
   ]
  },
  {
   "cell_type": "markdown",
   "metadata": {
    "slideshow": {
     "slide_type": "slide"
    }
   },
   "source": [
    "What we expect from the depolarazation channel acting on a 2 qubit system with initial qubit states $q_{0} = |0>$ and $q_{1} = |0>$ is that the $X$ and $Y$ will flip the individual qubit states $q_{0}$ and $q_{1}$ with a total probability $2/3$ and remain the same with a probability of $1/3$. This will then give us the 4 possible states $|00>$, $|01>$, $|10>$ and $|11>$."
   ]
  },
  {
   "cell_type": "code",
   "execution_count": 12,
   "metadata": {
    "slideshow": {
     "slide_type": "subslide"
    }
   },
   "outputs": [],
   "source": [
    "qr2 = QuantumRegister(2)\n",
    "cr2 = ClassicalRegister(2)\n",
    "qc2 = QuantumCircuit(qr2, cr2)"
   ]
  },
  {
   "cell_type": "code",
   "execution_count": 13,
   "metadata": {
    "slideshow": {
     "slide_type": "subslide"
    }
   },
   "outputs": [
    {
     "data": {
      "text/plain": [
       "<qiskit.circuit.instructionset.InstructionSet at 0x1df60c83788>"
      ]
     },
     "execution_count": 13,
     "metadata": {},
     "output_type": "execute_result"
    }
   ],
   "source": [
    "qc2.measure(0,0)\n",
    "qc2.measure(1,1)"
   ]
  },
  {
   "cell_type": "code",
   "execution_count": 14,
   "metadata": {
    "scrolled": true,
    "slideshow": {
     "slide_type": "subslide"
    }
   },
   "outputs": [
    {
     "name": "stdout",
     "output_type": "stream",
     "text": [
      "      ┌─┐   \n",
      "q1_0: ┤M├───\n",
      "      └╥┘┌─┐\n",
      "q1_1: ─╫─┤M├\n",
      "       ║ └╥┘\n",
      "c1_0: ═╩══╬═\n",
      "          ║ \n",
      "c1_1: ════╩═\n",
      "            \n"
     ]
    }
   ],
   "source": [
    "print(qc2)"
   ]
  },
  {
   "cell_type": "code",
   "execution_count": 15,
   "metadata": {
    "slideshow": {
     "slide_type": "subslide"
    }
   },
   "outputs": [],
   "source": [
    "counts2 = execute(qc2, Aer.get_backend('qasm_simulator'), \n",
    "                  noise_model=noise_model,\n",
    "                  shots=1000000).result().get_counts()"
   ]
  },
  {
   "cell_type": "code",
   "execution_count": 16,
   "metadata": {
    "slideshow": {
     "slide_type": "subslide"
    }
   },
   "outputs": [
    {
     "data": {
      "image/png": "[encoded data removed]",
      "text/plain": [
       "<Figure size 504x360 with 1 Axes>"
      ]
     },
     "execution_count": 16,
     "metadata": {},
     "output_type": "execute_result"
    }
   ],
   "source": [
    "plot_histogram(counts2)"
   ]
  },
  {
   "cell_type": "code",
   "execution_count": 17,
   "metadata": {
    "slideshow": {
     "slide_type": "subslide"
    }
   },
   "outputs": [
    {
     "name": "stdout",
     "output_type": "stream",
     "text": [
      "{'01': 222551, '11': 443909, '00': 110806, '10': 222734}\n"
     ]
    }
   ],
   "source": [
    "print(counts2)"
   ]
  },
  {
   "cell_type": "markdown",
   "metadata": {
    "slideshow": {
     "slide_type": "subslide"
    }
   },
   "source": [
    "\n",
    "|2-qubit state | Probability of the 2-qubit state  | Qiskit result |\n",
    "|--------------|-----------------------------------|---------------|\n",
    "|    $\\vert 00>$ | $\\frac{1}{3}\\cdot \\frac{1}{3} = \\frac{1}{9}=0.111$ | 0.111|\n",
    "|    $\\vert 01>$ | $\\frac{1}{3}\\cdot \\frac{2}{3} = \\frac{2}{9}=0.222$ | 0.223|\n",
    "|    $\\vert 10>$ | $\\frac{2}{3}\\cdot \\frac{1}{3} = \\frac{2}{9}=0.222$ | 0.223|\n",
    "|    $\\vert 11>$ | $\\frac{2}{3}\\cdot \\frac{2}{3} = \\frac{4}{9}=0.444$ | 0.444|\n",
    "\n",
    "From the results above you can see that the deporalizing error channel $\\varepsilon(\\rho_{single-qubit})$ works on the qubits like how it was expected with the small error due to statistical fluctuations involved in making measurements.\n"
   ]
  },
  {
   "cell_type": "markdown",
   "metadata": {
    "slideshow": {
     "slide_type": "slide"
    }
   },
   "source": [
    "The same procedure applies to a 3 qubit system. With  \n",
    "8 possible states $|000>$, $|001>$, $|010>$, $|011>$, $|100>$, $|101>$, $|110>$ and $|111>$."
   ]
  },
  {
   "cell_type": "code",
   "execution_count": 18,
   "metadata": {
    "slideshow": {
     "slide_type": "subslide"
    }
   },
   "outputs": [],
   "source": [
    "qr3 = QuantumRegister(3)\n",
    "cr3 = ClassicalRegister(3)\n",
    "qc3 = QuantumCircuit(qr3, cr3)"
   ]
  },
  {
   "cell_type": "code",
   "execution_count": 19,
   "metadata": {
    "slideshow": {
     "slide_type": "subslide"
    }
   },
   "outputs": [
    {
     "data": {
      "text/plain": [
       "<qiskit.circuit.instructionset.InstructionSet at 0x1df61ca0908>"
      ]
     },
     "execution_count": 19,
     "metadata": {},
     "output_type": "execute_result"
    }
   ],
   "source": [
    "qc3.measure(0,0)\n",
    "qc3.measure(1,1)\n",
    "qc3.measure(2,2)"
   ]
  },
  {
   "cell_type": "code",
   "execution_count": 20,
   "metadata": {
    "slideshow": {
     "slide_type": "subslide"
    }
   },
   "outputs": [
    {
     "name": "stdout",
     "output_type": "stream",
     "text": [
      "      ┌─┐      \n",
      "q2_0: ┤M├──────\n",
      "      └╥┘┌─┐   \n",
      "q2_1: ─╫─┤M├───\n",
      "       ║ └╥┘┌─┐\n",
      "q2_2: ─╫──╫─┤M├\n",
      "       ║  ║ └╥┘\n",
      "c2_0: ═╩══╬══╬═\n",
      "          ║  ║ \n",
      "c2_1: ════╩══╬═\n",
      "             ║ \n",
      "c2_2: ═══════╩═\n",
      "               \n"
     ]
    }
   ],
   "source": [
    "print(qc3)"
   ]
  },
  {
   "cell_type": "code",
   "execution_count": 21,
   "metadata": {
    "slideshow": {
     "slide_type": "subslide"
    }
   },
   "outputs": [],
   "source": [
    "counts3 = execute(qc3, Aer.get_backend('qasm_simulator'), \n",
    "                  noise_model=noise_model,\n",
    "                  shots=1000000).result().get_counts()"
   ]
  },
  {
   "cell_type": "code",
   "execution_count": 22,
   "metadata": {
    "slideshow": {
     "slide_type": "subslide"
    }
   },
   "outputs": [
    {
     "data": {
      "image/png": "[encoded data removed]",
      "text/plain": [
       "<Figure size 504x360 with 1 Axes>"
      ]
     },
     "execution_count": 22,
     "metadata": {},
     "output_type": "execute_result"
    }
   ],
   "source": [
    "plot_histogram(counts3)"
   ]
  },
  {
   "cell_type": "code",
   "execution_count": 23,
   "metadata": {
    "slideshow": {
     "slide_type": "subslide"
    }
   },
   "outputs": [
    {
     "name": "stdout",
     "output_type": "stream",
     "text": [
      "{'011': 148411, '000': 36983, '111': 295825, '100': 74554, '101': 148018, '110': 148366, '001': 73579, '010': 74264}\n"
     ]
    }
   ],
   "source": [
    "print(counts3)"
   ]
  },
  {
   "cell_type": "markdown",
   "metadata": {
    "slideshow": {
     "slide_type": "subslide"
    }
   },
   "source": [
    "\n",
    "|3-qubit state | Probability of the 3-qubit state  | Qiskit result |\n",
    "|--------------|-----------------------------------|---------------|\n",
    "|    $\\vert 000>$ | $\\frac{1}{3}\\cdot \\frac{1}{3}\\cdot \\frac{1}{3} = \\frac{1}{27}=0.037$ | 0.037|\n",
    "|    $\\vert 001>$ | $\\frac{1}{3}\\cdot\\frac{1}{3} \\cdot \\frac{2}{3} = \\frac{2}{27}=0.074$ | 0.074|\n",
    "|    $\\vert 010>$ |  $\\frac{1}{3}\\cdot\\frac{2}{3} \\cdot \\frac{1}{3} = \\frac{2}{27}=0.074$ | 0.074|\n",
    "|    $\\vert 011>$ | $\\frac{1}{3}\\cdot \\frac{2}{3}\\cdot \\frac{2}{3} = \\frac{4}{27}=0.148$ | 0.148|\n",
    "|    $\\vert 100>$ | $\\frac{2}{3}\\cdot\\frac{1}{3} \\cdot \\frac{1}{3} = \\frac{2}{27}=0.074$ | 0.075|\n",
    "|    $\\vert 101>$ | $\\frac{2}{3}\\cdot \\frac{1}{3}\\cdot \\frac{2}{3} = \\frac{4}{27}=0.148$ | 0.148|\n",
    "|    $\\vert 110>$ | $\\frac{2}{3}\\cdot \\frac{2}{3}\\cdot \\frac{1}{3} = \\frac{4}{27}=0.148$ | 0.148|\n",
    "|    $\\vert 111>$ | $\\frac{2}{3}\\cdot \\frac{2}{3}\\cdot \\frac{2}{3} = \\frac{4}{27}=0.296$ | 0.296|\n",
    "\n",
    "From the results above you can see that the deporalizing error channel $\\varepsilon(\\rho_{single-qubit})$ works on the qubits like how it was expected with the small error due to statistical fluctuations involved in making measurements.\n"
   ]
  },
  {
   "cell_type": "markdown",
   "metadata": {
    "slideshow": {
     "slide_type": "slide"
    }
   },
   "source": [
    "The procedure holds for a 4 qubit system. With  \n",
    "16 possible states $|0000>$, $|0001>$, $|0010>$, $|0011>$, $|0100>$, $|0101>$, $|0110>$, $|0111>$, $|1000>$, $|1001>$, $|1010>$, $|1011>$, $|1100>$, $|1101>$, $|1110>$ and $|1111>$"
   ]
  },
  {
   "cell_type": "code",
   "execution_count": 24,
   "metadata": {
    "slideshow": {
     "slide_type": "subslide"
    }
   },
   "outputs": [],
   "source": [
    "qr4 = QuantumRegister(4)\n",
    "cr4 = ClassicalRegister(4)\n",
    "qc4 = QuantumCircuit(qr4, cr4)"
   ]
  },
  {
   "cell_type": "code",
   "execution_count": 25,
   "metadata": {
    "slideshow": {
     "slide_type": "subslide"
    }
   },
   "outputs": [
    {
     "data": {
      "text/plain": [
       "<qiskit.circuit.instructionset.InstructionSet at 0x1df61d636c8>"
      ]
     },
     "execution_count": 25,
     "metadata": {},
     "output_type": "execute_result"
    }
   ],
   "source": [
    "qc4.measure(0,0)\n",
    "qc4.measure(1,1)\n",
    "qc4.measure(2,2)\n",
    "qc4.measure(3,3)"
   ]
  },
  {
   "cell_type": "code",
   "execution_count": 26,
   "metadata": {
    "slideshow": {
     "slide_type": "subslide"
    }
   },
   "outputs": [
    {
     "name": "stdout",
     "output_type": "stream",
     "text": [
      "      ┌─┐         \n",
      "q3_0: ┤M├─────────\n",
      "      └╥┘┌─┐      \n",
      "q3_1: ─╫─┤M├──────\n",
      "       ║ └╥┘┌─┐   \n",
      "q3_2: ─╫──╫─┤M├───\n",
      "       ║  ║ └╥┘┌─┐\n",
      "q3_3: ─╫──╫──╫─┤M├\n",
      "       ║  ║  ║ └╥┘\n",
      "c3_0: ═╩══╬══╬══╬═\n",
      "          ║  ║  ║ \n",
      "c3_1: ════╩══╬══╬═\n",
      "             ║  ║ \n",
      "c3_2: ═══════╩══╬═\n",
      "                ║ \n",
      "c3_3: ══════════╩═\n",
      "                  \n"
     ]
    }
   ],
   "source": [
    "print(qc4)"
   ]
  },
  {
   "cell_type": "code",
   "execution_count": 27,
   "metadata": {
    "slideshow": {
     "slide_type": "subslide"
    }
   },
   "outputs": [],
   "source": [
    "counts4 = execute(qc4, Aer.get_backend('qasm_simulator'), \n",
    "                  noise_model=noise_model,\n",
    "                  shots=1000000).result().get_counts()"
   ]
  },
  {
   "cell_type": "code",
   "execution_count": 28,
   "metadata": {
    "slideshow": {
     "slide_type": "subslide"
    }
   },
   "outputs": [
    {
     "data": {
      "image/png": "[encoded data removed]",
      "text/plain": [
       "<Figure size 504x360 with 1 Axes>"
      ]
     },
     "execution_count": 28,
     "metadata": {},
     "output_type": "execute_result"
    }
   ],
   "source": [
    "plot_histogram(counts4)"
   ]
  },
  {
   "cell_type": "code",
   "execution_count": 29,
   "metadata": {
    "slideshow": {
     "slide_type": "subslide"
    }
   },
   "outputs": [
    {
     "name": "stdout",
     "output_type": "stream",
     "text": [
      "{'1110': 98904, '0011': 49256, '1101': 98781, '1100': 49420, '0100': 24619, '1000': 24672, '0101': 49765, '1011': 98487, '0110': 49569, '0000': 12271, '0001': 24395, '1111': 197279, '1001': 49583, '0111': 98822, '1010': 49413, '0010': 24764}\n"
     ]
    }
   ],
   "source": [
    "print(counts4)"
   ]
  },
  {
   "cell_type": "markdown",
   "metadata": {
    "slideshow": {
     "slide_type": "subslide"
    }
   },
   "source": [
    "\n",
    "|4-qubit state | Probability of the 4-qubit state  | Qiskit result |\n",
    "|--------------|-----------------------------------|---------------|\n",
    "|    $\\vert 0000>$ | $\\frac{1}{3}\\cdot \\frac{1}{3}\\cdot \\frac{1}{3} \\cdot \\frac{1}{3} = \\frac{1}{81}=0.012$ | 0.012|\n",
    "|    $\\vert 0001>$ | $\\frac{1}{3}\\cdot\\frac{1}{3}\\cdot \\frac{1}{3} \\cdot \\frac{2}{3} = \\frac{2}{81}=0.025$ | 0.024|\n",
    "|    $\\vert 0010>$ | $\\frac{1}{3}\\cdot\\frac{1}{3}\\cdot \\frac{2}{3} \\cdot \\frac{1}{3} = \\frac{2}{81}=0.025$ | 0.025|\n",
    "|    $\\vert 0011>$ | $\\frac{1}{3}\\cdot \\frac{1}{3}\\cdot \\frac{2}{3}\\cdot \\frac{2}{3} = \\frac{4}{81}=0.049$ | 0.049|\n",
    "|    $\\vert 0100>$ | $\\frac{1}{3}\\cdot\\frac{2}{3} \\cdot \\frac{1}{3}\\cdot \\frac{1}{3} = \\frac{2}{81}=0.025$ | 0.025|\n",
    "|    $\\vert 0101>$ |  $\\frac{1}{3} \\cdot \\frac{2}{3}\\cdot \\frac{1}{3}\\cdot \\frac{2}{3} = \\frac{4}{81}=0.049$ | 0.05|\n",
    "|    $\\vert 0110>$ | $ \\frac{1}{3}\\cdot \\frac{2}{3}\\cdot \\frac{2}{3} \\cdot \\frac{1}{3} = \\frac{4}{81}=0.049$ | 0.05|\n",
    "|    $\\vert 0111>$ | $\\frac{1}{3}\\cdot \\frac{2}{3}\\cdot \\frac{2}{3}\\cdot \\frac{2}{3} = \\frac{8}{81}=0.099$ | 0.099|\n",
    "|    $\\vert 1000>$ | $\\frac{2}{3}\\cdot\\frac{1}{3}\\cdot \\frac{1}{3} \\cdot \\frac{1}{3} = \\frac{2}{81}=0.025$ | 0.025|\n",
    "|    $\\vert 1001>$ | $\\frac{2}{3}\\cdot \\frac{1}{3}\\cdot \\frac{1}{3}\\cdot \\frac{2}{3} = \\frac{4}{81}=0.049$ | 0.050|\n",
    "|    $\\vert 1010>$ | $\\frac{2}{3}\\cdot \\frac{1}{3}\\cdot \\frac{2}{3}\\cdot \\frac{1}{3} = \\frac{4}{81}=0.049$ | 0.049|\n",
    "|    $\\vert 1011>$ | $\\frac{2}{3}\\cdot \\frac{1}{3}\\cdot \\frac{2}{3}\\cdot \\frac{2}{3} = \\frac{8}{81}=0.099$ | 0.098|\n",
    "|    $\\vert 1100>$ | $ \\frac{2}{3}\\cdot \\frac{2}{3}\\cdot \\frac{1}{3} \\cdot \\frac{1}{3} = \\frac{4}{81}=0.049$ | 0.049|\n",
    "|    $\\vert 1101>$ | $\\frac{2}{3}\\cdot \\frac{2}{3}\\cdot \\frac{1}{3}\\cdot \\frac{2}{3} = \\frac{8}{81}=0.099$ | 0.099|\n",
    "|    $\\vert 1110>$ | $\\frac{2}{3}\\cdot \\frac{2}{3}\\cdot \\frac{2}{3}\\cdot \\frac{1}{3} = \\frac{8}{81}=0.099$ | 0.099|\n",
    "|    $\\vert 1111>$ | $\\frac{2}{3}\\cdot \\frac{2}{3}\\cdot \\frac{2}{3}\\cdot \\frac{2}{3} = \\frac{16}{81}=0.198$ | 0.197|\n",
    "\n",
    "From the results above you can see that the deporalizing error channel $\\varepsilon(\\rho_{single-qubit})$ works on the qubits like how it was expected with the small error due to statistical fluctuations involved in making measurements."
   ]
  },
  {
   "cell_type": "markdown",
   "metadata": {
    "slideshow": {
     "slide_type": "subslide"
    }
   },
   "source": [
    "To conclude the results show that the built in function $\\texttt{depolarizing\\_error}$ works the way we want it to as the majority of the results were acurate.\n",
    "When \n",
    "$$\\lambda=\\frac{4^{n}P}{4^{n}-1},$$ \n",
    "and $n=1$, $$\\lambda = \\frac{4P}{3}.$$\n",
    "The depolarizing channel becomes \n",
    "$$\\varepsilon(\\rho_{single-qubit}) =    \n",
    "    (1-P)\\rho + \\frac{P}{3}\\left(X\\rho X + Y\\rho Y + Z\\rho Z\\right)$$"
   ]
  }
 ],
 "metadata": {
  "celltoolbar": "Slideshow",
  "kernelspec": {
   "display_name": "Python 3",
   "language": "python",
   "name": "python3"
  },
  "language_info": {
   "codemirror_mode": {
    "name": "ipython",
    "version": 3
   },
   "file_extension": ".py",
   "mimetype": "text/x-python",
   "name": "python",
   "nbconvert_exporter": "python",
   "pygments_lexer": "ipython3",
   "version": "3.7.6"
  }
 },
 "nbformat": 4,
 "nbformat_minor": 2
}
